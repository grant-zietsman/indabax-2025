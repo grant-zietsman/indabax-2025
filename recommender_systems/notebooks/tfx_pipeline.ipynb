{
 "cells": [
  {
   "cell_type": "markdown",
   "id": "0af8b92c",
   "metadata": {},
   "source": [
    "# TFX Pipeline\n",
    "\n",
    "# TODO: Organise\n",
    "Relevant Guides:\n",
    "- https://www.tensorflow.org/recommenders/examples/basic_retrieval\n",
    "- https://www.tensorflow.org/tfx/tutorials/tfx/recommenders\n",
    "- https://www.tensorflow.org/recommenders/examples/basic_ranking\n",
    "- https://www.tensorflow.org/recommenders/examples/ranking_tfx"
   ]
  },
  {
   "cell_type": "code",
   "execution_count": 1,
   "id": "42838c3d",
   "metadata": {},
   "outputs": [
    {
     "name": "stderr",
     "output_type": "stream",
     "text": [
      "2025-06-25 14:03:39.768453: I external/local_tsl/tsl/cuda/cudart_stub.cc:31] Could not find cuda drivers on your machine, GPU will not be used.\n",
      "2025-06-25 14:03:39.822260: E external/local_xla/xla/stream_executor/cuda/cuda_dnn.cc:9261] Unable to register cuDNN factory: Attempting to register factory for plugin cuDNN when one has already been registered\n",
      "2025-06-25 14:03:39.822298: E external/local_xla/xla/stream_executor/cuda/cuda_fft.cc:607] Unable to register cuFFT factory: Attempting to register factory for plugin cuFFT when one has already been registered\n",
      "2025-06-25 14:03:39.823762: E external/local_xla/xla/stream_executor/cuda/cuda_blas.cc:1515] Unable to register cuBLAS factory: Attempting to register factory for plugin cuBLAS when one has already been registered\n",
      "2025-06-25 14:03:39.832616: I external/local_tsl/tsl/cuda/cudart_stub.cc:31] Could not find cuda drivers on your machine, GPU will not be used.\n",
      "2025-06-25 14:03:39.834198: I tensorflow/core/platform/cpu_feature_guard.cc:182] This TensorFlow binary is optimized to use available CPU instructions in performance-critical operations.\n",
      "To enable the following instructions: AVX2 FMA, in other operations, rebuild TensorFlow with the appropriate compiler flags.\n",
      "2025-06-25 14:03:41.275619: W tensorflow/compiler/tf2tensorrt/utils/py_utils.cc:38] TF-TRT Warning: Could not find TensorRT\n",
      "WARNING:absl:InteractiveContext metadata_connection_config not provided: using SQLite ML Metadata database at pipeline-root/recommender_systems/metadata.sqlite.\n"
     ]
    }
   ],
   "source": [
    "from importlib import reload\n",
    "from pathlib import Path\n",
    "\n",
    "import tensorflow_model_analysis as tfma\n",
    "from absl import logging\n",
    "from tfx import v1 as tfx\n",
    "from tfx.components import (\n",
    "    CsvExampleGen,\n",
    "    Evaluator,\n",
    "    Pusher,\n",
    "    SchemaGen,\n",
    "    StatisticsGen,\n",
    "    Transform,\n",
    ")\n",
    "from tfx.orchestration.experimental.interactive.interactive_context import (\n",
    "    InteractiveContext,\n",
    ")\n",
    "from tfx.types.standard_component_specs import (\n",
    "    BLESSING_KEY,\n",
    "    EVALUATION_KEY,\n",
    "    EXAMPLES_KEY,\n",
    "    MODEL_KEY,\n",
    "    POST_TRANSFORM_SCHEMA_KEY,\n",
    "    SCHEMA_KEY,\n",
    "    STATISTICS_KEY,\n",
    "    TRANSFORM_GRAPH_KEY,\n",
    "    TRANSFORMED_EXAMPLES_KEY,\n",
    ")\n",
    "\n",
    "from recommender_systems import evaluator_module, trainer_module, transform_module\n",
    "from recommender_systems.features import ProductFeatures\n",
    "from recommender_systems.splits import Splits\n",
    "from tfx_tfrs.trainer import Trainer\n",
    "\n",
    "logging.set_verbosity(logging.INFO)\n",
    "\n",
    "DATA = Path.cwd().parent / \"data\"\n",
    "\n",
    "PIPELINE_NAME = \"recommender_systems\"\n",
    "\n",
    "context = InteractiveContext(\n",
    "    pipeline_name=PIPELINE_NAME,\n",
    "    pipeline_root=str(Path(\"pipeline-root\") / PIPELINE_NAME),\n",
    ")"
   ]
  },
  {
   "cell_type": "code",
   "execution_count": null,
   "id": "8afb8a6b",
   "metadata": {},
   "outputs": [],
   "source": [
    "PARTICIPANT = \"stefan-dominicus\""
   ]
  },
  {
   "cell_type": "markdown",
   "id": "84010ab4",
   "metadata": {},
   "source": [
    "## Ingest Reviews"
   ]
  },
  {
   "cell_type": "markdown",
   "id": "e0dbe17d",
   "metadata": {},
   "source": [
    "### Examples\n",
    "Docs:\n",
    "- https://www.tensorflow.org/tfx/guide/examplegen\n",
    "- https://www.tensorflow.org/tfx/api_docs/python/tfx/v1/components/CsvExampleGen\n",
    "- https://github.com/tensorflow/tfx/blob/master/tfx/proto/example_gen.proto"
   ]
  },
  {
   "cell_type": "code",
   "execution_count": null,
   "id": "0c76c9b2",
   "metadata": {},
   "outputs": [],
   "source": [
    "reviews_example_gen_component = CsvExampleGen(\n",
    "    input_base=str(DATA / \"reviews\"),\n",
    "    input_config=tfx.proto.Input(\n",
    "        splits=[\n",
    "            tfx.proto.Input.Split(name=split, pattern=f\"{split}.csv\")\n",
    "            for split in [Splits.TRAIN, Splits.VALIDATION]\n",
    "        ]\n",
    "    ),\n",
    ")\n",
    "context.run(reviews_example_gen_component, enable_cache=True)"
   ]
  },
  {
   "cell_type": "markdown",
   "id": "7753d1c6",
   "metadata": {},
   "source": [
    "### Statistics\n",
    "Docs:\n",
    "- https://www.tensorflow.org/tfx/guide/statsgen\n",
    "- https://www.tensorflow.org/tfx/api_docs/python/tfx/v1/components/StatisticsGen"
   ]
  },
  {
   "cell_type": "code",
   "execution_count": null,
   "id": "5e2418f4",
   "metadata": {},
   "outputs": [],
   "source": [
    "reviews_statistics_gen_component = StatisticsGen(\n",
    "    examples=reviews_example_gen_component.outputs[EXAMPLES_KEY]\n",
    ")\n",
    "context.run(reviews_statistics_gen_component, enable_cache=True)"
   ]
  },
  {
   "cell_type": "code",
   "execution_count": null,
   "id": "98eefc82",
   "metadata": {},
   "outputs": [],
   "source": [
    "context.show(reviews_statistics_gen_component.outputs[STATISTICS_KEY])"
   ]
  },
  {
   "cell_type": "markdown",
   "id": "6cf9096c",
   "metadata": {},
   "source": [
    "### Schema\n",
    "Docs:\n",
    "- https://www.tensorflow.org/tfx/guide/schemagen\n",
    "- https://www.tensorflow.org/tfx/api_docs/python/tfx/v1/components/SchemaGen"
   ]
  },
  {
   "cell_type": "code",
   "execution_count": null,
   "id": "0b10f2bb",
   "metadata": {},
   "outputs": [],
   "source": [
    "reviews_schema_gen_component = SchemaGen(\n",
    "    statistics=reviews_statistics_gen_component.outputs[STATISTICS_KEY]\n",
    ")\n",
    "context.run(reviews_schema_gen_component, enable_cache=True)"
   ]
  },
  {
   "cell_type": "code",
   "execution_count": null,
   "id": "5813845e",
   "metadata": {},
   "outputs": [],
   "source": [
    "context.show(reviews_schema_gen_component.outputs[SCHEMA_KEY])"
   ]
  },
  {
   "cell_type": "markdown",
   "id": "31f9f3bc",
   "metadata": {},
   "source": [
    "## Transform Reviews"
   ]
  },
  {
   "cell_type": "markdown",
   "id": "57e69997",
   "metadata": {},
   "source": [
    "### Transform\n",
    "Docs:\n",
    "- https://www.tensorflow.org/tfx/guide/transform\n",
    "- https://www.tensorflow.org/tfx/api_docs/python/tfx/v1/components/Transform"
   ]
  },
  {
   "cell_type": "code",
   "execution_count": null,
   "id": "991396c3",
   "metadata": {},
   "outputs": [],
   "source": [
    "reload(transform_module)\n",
    "\n",
    "transform_component = Transform(\n",
    "    examples=reviews_example_gen_component.outputs[EXAMPLES_KEY],\n",
    "    schema=reviews_schema_gen_component.outputs[SCHEMA_KEY],\n",
    "    module_file=transform_module.__file__,\n",
    "    splits_config=tfx.proto.SplitsConfig(\n",
    "        # Analyse all splits for full vocabulary coverage (default: train only)\n",
    "        analyze=[Splits.TRAIN, Splits.VALIDATION],\n",
    "        # Transform (and materialise) examples from all splits (default)\n",
    "        transform=[Splits.TRAIN, Splits.VALIDATION],\n",
    "    ),\n",
    ")\n",
    "context.run(transform_component, enable_cache=True)"
   ]
  },
  {
   "cell_type": "markdown",
   "id": "e24383fd",
   "metadata": {},
   "source": [
    "### Statistics\n",
    "Docs:\n",
    "- https://www.tensorflow.org/tfx/guide/statsgen\n",
    "- https://www.tensorflow.org/tfx/api_docs/python/tfx/v1/components/StatisticsGen"
   ]
  },
  {
   "cell_type": "code",
   "execution_count": null,
   "id": "5a6dc020",
   "metadata": {},
   "outputs": [],
   "source": [
    "post_transform_statistics_gen_component = StatisticsGen(\n",
    "    examples=transform_component.outputs[TRANSFORMED_EXAMPLES_KEY]\n",
    ")\n",
    "context.run(post_transform_statistics_gen_component, enable_cache=True)"
   ]
  },
  {
   "cell_type": "code",
   "execution_count": null,
   "id": "8a3a2d3b",
   "metadata": {},
   "outputs": [],
   "source": [
    "context.show(post_transform_statistics_gen_component.outputs[STATISTICS_KEY])"
   ]
  },
  {
   "cell_type": "markdown",
   "id": "0d9e587f",
   "metadata": {},
   "source": [
    "### Schema"
   ]
  },
  {
   "cell_type": "code",
   "execution_count": null,
   "id": "3e4fab94",
   "metadata": {},
   "outputs": [],
   "source": [
    "context.show(transform_component.outputs[POST_TRANSFORM_SCHEMA_KEY])"
   ]
  },
  {
   "cell_type": "markdown",
   "id": "f376d25c",
   "metadata": {},
   "source": [
    "## Ingest Products"
   ]
  },
  {
   "cell_type": "markdown",
   "id": "9d66d0ce",
   "metadata": {},
   "source": [
    "### Examples\n",
    "Docs:\n",
    "- https://www.tensorflow.org/tfx/guide/examplegen\n",
    "- https://www.tensorflow.org/tfx/api_docs/python/tfx/v1/components/CsvExampleGen\n",
    "- https://github.com/tensorflow/tfx/blob/master/tfx/proto/example_gen.proto"
   ]
  },
  {
   "cell_type": "code",
   "execution_count": null,
   "id": "b7161a71",
   "metadata": {},
   "outputs": [],
   "source": [
    "product_example_gen_component = CsvExampleGen(\n",
    "    input_base=str(DATA),\n",
    "    input_config=tfx.proto.Input(\n",
    "        splits=[tfx.proto.Input.Split(name=Splits.SINGLE, pattern=\"products.csv\")]\n",
    "    ),\n",
    "    output_config=tfx.proto.Output(\n",
    "        split_config=tfx.proto.SplitConfig(\n",
    "            splits=[tfx.proto.SplitConfig.Split(name=Splits.SINGLE, hash_buckets=1)]\n",
    "        )\n",
    "    ),\n",
    ")\n",
    "context.run(product_example_gen_component, enable_cache=True)"
   ]
  },
  {
   "cell_type": "markdown",
   "id": "03cf564c",
   "metadata": {},
   "source": [
    "### Statistics\n",
    "Docs:\n",
    "- https://www.tensorflow.org/tfx/guide/statsgen\n",
    "- https://www.tensorflow.org/tfx/api_docs/python/tfx/v1/components/StatisticsGen"
   ]
  },
  {
   "cell_type": "code",
   "execution_count": null,
   "id": "5c2198ec",
   "metadata": {},
   "outputs": [],
   "source": [
    "product_statistics_gen_component = StatisticsGen(\n",
    "    examples=product_example_gen_component.outputs[EXAMPLES_KEY]\n",
    ")\n",
    "context.run(product_statistics_gen_component, enable_cache=True)"
   ]
  },
  {
   "cell_type": "code",
   "execution_count": null,
   "id": "03abf255",
   "metadata": {},
   "outputs": [],
   "source": [
    "context.show(product_statistics_gen_component.outputs[STATISTICS_KEY])"
   ]
  },
  {
   "cell_type": "markdown",
   "id": "68d3afe9",
   "metadata": {},
   "source": [
    "### Schema\n",
    "Docs:\n",
    "- https://www.tensorflow.org/tfx/guide/schemagen\n",
    "- https://www.tensorflow.org/tfx/api_docs/python/tfx/v1/components/SchemaGen"
   ]
  },
  {
   "cell_type": "code",
   "execution_count": null,
   "id": "1da02bd1",
   "metadata": {},
   "outputs": [],
   "source": [
    "product_schema_gen_component = SchemaGen(\n",
    "    statistics=product_statistics_gen_component.outputs[STATISTICS_KEY]\n",
    ")\n",
    "context.run(product_schema_gen_component, enable_cache=True)"
   ]
  },
  {
   "cell_type": "code",
   "execution_count": null,
   "id": "599da3d1",
   "metadata": {},
   "outputs": [],
   "source": [
    "context.show(product_schema_gen_component.outputs[SCHEMA_KEY])"
   ]
  },
  {
   "cell_type": "markdown",
   "id": "2e394e76",
   "metadata": {},
   "source": [
    "## Train Model"
   ]
  },
  {
   "cell_type": "markdown",
   "id": "2f4024e1",
   "metadata": {},
   "source": [
    "### Trainer\n",
    "Docs:\n",
    "- https://www.tensorflow.org/tfx/guide/trainer\n",
    "- https://www.tensorflow.org/tfx/api_docs/python/tfx/v1/components/Trainer\n",
    "- https://github.com/tensorflow/tfx/blob/master/tfx/proto/trainer.proto"
   ]
  },
  {
   "cell_type": "code",
   "execution_count": null,
   "id": "501e9373",
   "metadata": {},
   "outputs": [],
   "source": [
    "reload(trainer_module)\n",
    "\n",
    "trainer_component = Trainer(\n",
    "    examples=transform_component.outputs[TRANSFORMED_EXAMPLES_KEY],\n",
    "    transform_graph=transform_component.outputs[TRANSFORM_GRAPH_KEY],\n",
    "    schema=transform_component.outputs[POST_TRANSFORM_SCHEMA_KEY],\n",
    "    item_examples=product_example_gen_component.outputs[EXAMPLES_KEY],\n",
    "    item_schema=product_schema_gen_component.outputs[SCHEMA_KEY],\n",
    "    module_file=trainer_module.__file__,\n",
    "    train_args=tfx.proto.TrainArgs(splits=[Splits.TRAIN]),\n",
    "    eval_args=tfx.proto.EvalArgs(splits=[Splits.VALIDATION]),\n",
    "    custom_config=dict(\n",
    "        # tensorboard_log_dir=\"\",\n",
    "    ),\n",
    ")\n",
    "context.run(trainer_component, enable_cache=False)"
   ]
  },
  {
   "cell_type": "markdown",
   "id": "c563de6b",
   "metadata": {},
   "source": [
    "### Evaluator\n",
    "Docs:\n",
    "- https://www.tensorflow.org/tfx/guide/evaluator\n",
    "- https://www.tensorflow.org/tfx/api_docs/python/tfx/v1/components/Evaluator\n",
    "- https://github.com/tensorflow/tfx/blob/master/tfx/proto/evaluator.proto"
   ]
  },
  {
   "cell_type": "code",
   "execution_count": null,
   "id": "5cb74d5d",
   "metadata": {},
   "outputs": [],
   "source": [
    "reload(evaluator_module)\n",
    "\n",
    "evaluator_component = Evaluator(\n",
    "    examples=reviews_example_gen_component.outputs[EXAMPLES_KEY],\n",
    "    model=trainer_component.outputs[MODEL_KEY],\n",
    "    example_splits=[Splits.VALIDATION],\n",
    "    eval_config=tfma.EvalConfig(\n",
    "        metrics_specs=[\n",
    "            tfma.MetricsSpec(\n",
    "                metrics=[\n",
    "                    tfma.MetricConfig(\n",
    "                        class_name=\"ExampleCount\",\n",
    "                        threshold=tfma.MetricThreshold(\n",
    "                            value_threshold=tfma.GenericValueThreshold(\n",
    "                                lower_bound=dict(value=1)\n",
    "                            ),\n",
    "                        ),\n",
    "                    ),\n",
    "                    tfma.MetricConfig(\n",
    "                        class_name=\"TopKAccuracy\",\n",
    "                        module=evaluator_module.__name__,\n",
    "                    ),\n",
    "                ],\n",
    "            ),\n",
    "        ],\n",
    "        model_specs=[\n",
    "            tfma.ModelSpec(\n",
    "                label_key=ProductFeatures.ID,\n",
    "                signature_name=\"evaluate_products_for_customer\",\n",
    "            ),\n",
    "        ],\n",
    "    ),\n",
    "    schema=reviews_schema_gen_component.outputs[SCHEMA_KEY],\n",
    ")\n",
    "context.run(evaluator_component, enable_cache=False)"
   ]
  },
  {
   "cell_type": "code",
   "execution_count": null,
   "id": "f827eaa0",
   "metadata": {},
   "outputs": [],
   "source": [
    "# TODO: Figure out what I actually want to show in this cell\n",
    "\n",
    "output_path = evaluator_component.outputs[EVALUATION_KEY].get()[0].uri\n",
    "\n",
    "# Load the evaluation result\n",
    "eval_result = tfma.load_eval_result(output_path)\n",
    "print(\"EvalResult:\", eval_result)\n",
    "\n",
    "# Load the evaluation metrics\n",
    "metrics = tfma.load_metrics(output_path)\n",
    "print(\"Metrics:\", list(metrics))\n",
    "\n",
    "# Load the validation results\n",
    "validation_result = tfma.load_validation_result(output_path)\n",
    "print(\"ValidationResult:\", validation_result)\n",
    "if not validation_result.validation_ok:\n",
    "    print(\"Validation failed (model not blessed).\")"
   ]
  },
  {
   "cell_type": "markdown",
   "id": "4c8fb0ac",
   "metadata": {},
   "source": [
    "### Pusher\n",
    "Docs:\n",
    "- https://www.tensorflow.org/tfx/guide/pusher\n",
    "- https://www.tensorflow.org/tfx/api_docs/python/tfx/v1/components/Pusher\n",
    "- https://github.com/tensorflow/tfx/blob/master/tfx/proto/pusher.proto"
   ]
  },
  {
   "cell_type": "code",
   "execution_count": null,
   "id": "9e0f6bf5",
   "metadata": {},
   "outputs": [],
   "source": [
    "# TODO: Consider pushing to a GCS bucket so I can easily access their models\n",
    "\n",
    "pusher_component = Pusher(\n",
    "    model=trainer_component.outputs[MODEL_KEY],\n",
    "    model_blessing=evaluator_component.outputs[BLESSING_KEY],\n",
    "    push_destination=tfx.proto.PushDestination(\n",
    "                filesystem=tfx.proto.PushDestination.Filesystem(\n",
    "                    base_directory=f\"gs://tal-deep-learning-indabax-models/{PARTICIPANT}\",\n",
    "                    versioning=tfx.proto.Versioning.UNIX_TIMESTAMP,\n",
    "                )\n",
    "            ),\n",
    ")\n",
    "context.run(pusher_component, enable_cache=True)"
   ]
  }
 ],
 "metadata": {
  "kernelspec": {
   "display_name": "indabax-2025",
   "language": "python",
   "name": "python3"
  },
  "language_info": {
   "codemirror_mode": {
    "name": "ipython",
    "version": 3
   },
   "file_extension": ".py",
   "mimetype": "text/x-python",
   "name": "python",
   "nbconvert_exporter": "python",
   "pygments_lexer": "ipython3",
   "version": "3.10.17"
  }
 },
 "nbformat": 4,
 "nbformat_minor": 5
}
