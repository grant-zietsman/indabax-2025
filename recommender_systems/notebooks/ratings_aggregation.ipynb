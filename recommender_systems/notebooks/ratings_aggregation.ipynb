{
 "cells": [
  {
   "cell_type": "code",
   "execution_count": 3,
   "id": "d713700a",
   "metadata": {},
   "outputs": [],
   "source": [
    "from pathlib import Path\n",
    "\n",
    "import matplotlib.pyplot as plt\n",
    "import pandas as pd\n",
    "\n",
    "DATA = Path.cwd().parent / \"data\"\n",
    "\n",
    "# Customers leave star-ratings for products (1-5 stars).\n",
    "MAX_RATING = 5\n",
    "RATING_BINS = [i + 0.5 for i in range(MAX_RATING + 1)]"
   ]
  },
  {
   "cell_type": "markdown",
   "id": "e7c88b71",
   "metadata": {},
   "source": [
    "# Explore Products"
   ]
  },
  {
   "cell_type": "code",
   "execution_count": null,
   "id": "fb0b419f",
   "metadata": {},
   "outputs": [],
   "source": [
    "products = pd.read_csv(DATA / \"products.csv\")\n",
    "\n",
    "products.head(10)"
   ]
  },
  {
   "cell_type": "code",
   "execution_count": null,
   "id": "2ac7a24d",
   "metadata": {},
   "outputs": [],
   "source": [
    "products.groupby(\"product_brand\", sort=False, dropna=False).size().sort_values(\n",
    "    ascending=False\n",
    ")"
   ]
  },
  {
   "cell_type": "code",
   "execution_count": null,
   "id": "f5cb56b7",
   "metadata": {},
   "outputs": [],
   "source": [
    "products.groupby(\"product_department\", sort=False, dropna=False).size().sort_values(\n",
    "    ascending=False\n",
    ").plot.bar()\n",
    "\n",
    "plt.show()"
   ]
  },
  {
   "cell_type": "markdown",
   "id": "943fdf6b",
   "metadata": {},
   "source": [
    "# Explore Reviews"
   ]
  },
  {
   "cell_type": "code",
   "execution_count": null,
   "id": "e33c8942",
   "metadata": {},
   "outputs": [],
   "source": [
    "reviews = pd.read_csv(DATA / \"reviews.csv\")\n",
    "\n",
    "reviews.head(10)"
   ]
  },
  {
   "cell_type": "code",
   "execution_count": null,
   "id": "e1002a52",
   "metadata": {},
   "outputs": [],
   "source": [
    "reviews[[\"review_rating\"]].plot.hist(bins=RATING_BINS)\n",
    "\n",
    "plt.show()"
   ]
  },
  {
   "cell_type": "code",
   "execution_count": null,
   "id": "add3ee30",
   "metadata": {},
   "outputs": [],
   "source": [
    "review_aggregation_by_product = reviews.groupby(\"product_id\", sort=False).aggregate(\n",
    "    review_rating_mean=(\"review_rating\", \"mean\"),\n",
    "    review_rating_count=(\"review_rating\", \"count\"),\n",
    ")\n",
    "# TODO: Maybe we don't aggregate count yet - let them figure out why count is useful?\n",
    "\n",
    "review_aggregation_by_product.head(10)"
   ]
  },
  {
   "cell_type": "code",
   "execution_count": null,
   "id": "8265dfa1",
   "metadata": {},
   "outputs": [],
   "source": [
    "review_aggregation_by_product[[\"review_rating_mean\"]].plot.hist(bins=RATING_BINS)\n",
    "review_aggregation_by_product[[\"review_rating_count\"]].plot.hist(log=True)\n",
    "\n",
    "plt.show()"
   ]
  },
  {
   "cell_type": "markdown",
   "id": "b110641b",
   "metadata": {},
   "source": [
    "# Join aggregated ratings to products"
   ]
  },
  {
   "cell_type": "code",
   "execution_count": null,
   "id": "3e592e95",
   "metadata": {},
   "outputs": [],
   "source": [
    "product_ratings = products.merge(\n",
    "    review_aggregation_by_product, left_on=\"product_id\", right_index=True\n",
    ").set_index(\"product_id\")\n",
    "\n",
    "product_ratings.head(10)"
   ]
  },
  {
   "cell_type": "markdown",
   "id": "70d0287c",
   "metadata": {},
   "source": [
    "# Generate Recommendations"
   ]
  },
  {
   "cell_type": "markdown",
   "id": "b5c9041d",
   "metadata": {},
   "source": [
    "## Top Rated Products (Overall)"
   ]
  },
  {
   "cell_type": "code",
   "execution_count": null,
   "id": "4c95adb4",
   "metadata": {},
   "outputs": [],
   "source": [
    "# Show top rated products\n",
    "product_ratings.sort_values(by=\"review_rating_mean\", ascending=False).head(10)"
   ]
  },
  {
   "cell_type": "code",
   "execution_count": null,
   "id": "e9ea20c7",
   "metadata": {},
   "outputs": [],
   "source": [
    "# Now think about tie-breaking\n",
    "product_ratings.sort_values(\n",
    "    by=[\"review_rating_mean\", \"review_rating_count\"], ascending=False\n",
    ").head(10)"
   ]
  },
  {
   "cell_type": "code",
   "execution_count": null,
   "id": "b4ec7f8a",
   "metadata": {},
   "outputs": [],
   "source": [
    "# TODO[IndabaX]: Ignore for now, we'll come back to this later"
   ]
  },
  {
   "cell_type": "markdown",
   "id": "ef80a57e",
   "metadata": {},
   "source": [
    "## Top Rated Products (By Brand)"
   ]
  },
  {
   "cell_type": "code",
   "execution_count": null,
   "id": "d642cc9e",
   "metadata": {},
   "outputs": [],
   "source": [
    "# Show top rated products (with tie-breaking)\n",
    "product_ratings[product_ratings[\"product_brand\"] == \"LEGO\"].sort_values(\n",
    "    by=[\"review_rating_mean\", \"review_rating_count\"], ascending=False\n",
    ").head(10)"
   ]
  },
  {
   "cell_type": "code",
   "execution_count": null,
   "id": "5e3d9636",
   "metadata": {},
   "outputs": [],
   "source": [
    "# TODO[IndabaX]: Ignore for now, we'll come back to this later"
   ]
  },
  {
   "cell_type": "markdown",
   "id": "4804c5b9",
   "metadata": {},
   "source": [
    "## Top Rated Products (By Department)"
   ]
  },
  {
   "cell_type": "code",
   "execution_count": null,
   "id": "d972d435",
   "metadata": {},
   "outputs": [],
   "source": [
    "# Show top rated products (with tie-breaking)\n",
    "product_ratings[product_ratings[\"product_department\"] == \"Cellphones & Wearables\"].sort_values(\n",
    "    by=[\"review_rating_mean\", \"review_rating_count\"], ascending=False\n",
    ").head(10)"
   ]
  },
  {
   "cell_type": "code",
   "execution_count": null,
   "id": "ad59d58f",
   "metadata": {},
   "outputs": [],
   "source": [
    "# TODO[IndabaX]: Ignore for now, we'll come back to this later"
   ]
  },
  {
   "cell_type": "markdown",
   "id": "72289b54",
   "metadata": {},
   "source": [
    "# TODO: Cherry pick an example that illustrates the idea of trusting more reviews rather than higher mean"
   ]
  },
  {
   "cell_type": "markdown",
   "id": "59ce2a7f",
   "metadata": {},
   "source": [
    "# Something Better"
   ]
  },
  {
   "cell_type": "code",
   "execution_count": null,
   "id": "20f2ea33",
   "metadata": {},
   "outputs": [],
   "source": [
    "# Compute the expected rating using Laplace Rule of Succession\n",
    "# https://www.youtube.com/watch?v=8idr1WZ1A7Q\n",
    "# TODO: Links, markdown, example\n",
    "product_ratings[\"review_rating_expected\"] = (\n",
    "    (product_ratings[\"review_rating_mean\"] * product_ratings[\"review_rating_count\"])\n",
    "    + MAX_RATING\n",
    ") / (product_ratings[\"review_rating_count\"] + 2)"
   ]
  },
  {
   "cell_type": "code",
   "execution_count": null,
   "id": "a6e534c3",
   "metadata": {},
   "outputs": [],
   "source": [
    "# Look at the effect of this transformation\n",
    "product_ratings[[\"review_rating_mean\"]].plot.hist(bins=RATING_BINS)\n",
    "product_ratings[[\"review_rating_expected\"]].plot.hist(bins=RATING_BINS)\n",
    "\n",
    "plt.show()"
   ]
  },
  {
   "cell_type": "markdown",
   "id": "27d98632",
   "metadata": {},
   "source": [
    "## Now go back and generate recommendations using this new 'expected' rating"
   ]
  }
 ],
 "metadata": {
  "kernelspec": {
   "display_name": "indabax-2025",
   "language": "python",
   "name": "python3"
  },
  "language_info": {
   "codemirror_mode": {
    "name": "ipython",
    "version": 3
   },
   "file_extension": ".py",
   "mimetype": "text/x-python",
   "name": "python",
   "nbconvert_exporter": "python",
   "pygments_lexer": "ipython3",
   "version": "3.10.17"
  }
 },
 "nbformat": 4,
 "nbformat_minor": 5
}
